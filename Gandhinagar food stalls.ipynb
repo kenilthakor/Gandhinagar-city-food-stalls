{
 "cells": [
  {
   "cell_type": "code",
   "execution_count": 2,
   "id": "803f2c15",
   "metadata": {},
   "outputs": [],
   "source": [
    "import folium\n",
    "import pandas\n",
    "\n",
    "data = pandas.read_csv(\"F:\\cityproject.csv\")\n",
    "lat = list(data[\"LAT\"])\n",
    "lan = list(data[\"LON\"])\n",
    "typ = list(data[\"TYPE\"])\n",
    "food = list(data[\"FOOD\"])\n",
    "\n",
    "def color_producer(food):\n",
    "    if food == 1:\n",
    "        return 'red'\n",
    "    elif food == 2:\n",
    "        return 'blue'\n",
    "    else:\n",
    "        return 'green'\n",
    "    \n",
    "map = folium.Map(location=[23.21644635499523, 72.6417708739656],zoom_start=14, TileLayer=\"Mapbox Bright\")\n",
    "\n",
    "fgv = folium.FeatureGroup(name=\"my map\")\n",
    "\n",
    "for lt, ln, typ, fd in zip(lat, lan, typ, food):\n",
    "    fgv.add_child(folium.CircleMarker(location=[lt, ln], radius=6, popup=str(typ),fill=True, fill_color=color_producer(food),fill_opacity=0.7))\n",
    "\n",
    "\n",
    "\n",
    "#fgp.add_child(folium.GeoJson(data=open('world.json', 'r', encoding='utf-8-sig').read(),\n",
    "#style_function= lambda x: {'fillColor':'green' if x['properties']['POP2005'] < 10000000 \n",
    "#else 'orange' if 10000000 <= x['properties']['POP2005'] < 20000000 else 'red' }))\n",
    "\n",
    "map.add_child(fgv)\n",
    "#map.add_child(fgp)\n",
    "map.add_child(folium.LayerControl())\n",
    "\n",
    "map.save(\"Map1.html\")\n"
   ]
  },
  {
   "cell_type": "code",
   "execution_count": null,
   "id": "2a4e1cda",
   "metadata": {
    "scrolled": true
   },
   "outputs": [],
   "source": []
  },
  {
   "cell_type": "code",
   "execution_count": null,
   "id": "45ad4899",
   "metadata": {},
   "outputs": [],
   "source": []
  }
 ],
 "metadata": {
  "kernelspec": {
   "display_name": "Python 3",
   "language": "python",
   "name": "python3"
  },
  "language_info": {
   "codemirror_mode": {
    "name": "ipython",
    "version": 3
   },
   "file_extension": ".py",
   "mimetype": "text/x-python",
   "name": "python",
   "nbconvert_exporter": "python",
   "pygments_lexer": "ipython3",
   "version": "3.9.4"
  }
 },
 "nbformat": 4,
 "nbformat_minor": 5
}
